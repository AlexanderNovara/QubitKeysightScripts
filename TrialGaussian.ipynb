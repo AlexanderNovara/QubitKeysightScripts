{
 "cells": [
  {
   "cell_type": "code",
   "execution_count": 13,
   "id": "7e0b244d",
   "metadata": {},
   "outputs": [
    {
     "name": "stdout",
     "output_type": "stream",
     "text": [
      "Module opened:  268435457\n",
      "Module name:  M3202A\n",
      "Slot:  3\n",
      "Chassis:  1\n",
      "\n",
      "AWG from file started successfully\n",
      "Press any key to stop AWGa\n",
      "Press any key to start AWG from arraya\n",
      "AWG from array started successfully\n",
      "Press any key to stop AWGa\n",
      "\n",
      "AOU closed\n"
     ]
    }
   ],
   "source": [
    "# AWG Control\n",
    "import sys\n",
    "sys.path.append('C:\\Program Files\\Keysight\\SD1\\Libraries\\Python')\n",
    "import keysightSD1\n",
    "\n",
    "waveform_data_list = [.01, .02, .03, .04, .05, .06, .07, .08, .09, .1,\n",
    "                      .11, .12, .13, .14, .15, .16, .17, .18, .19, .2,\n",
    "                      .21, .22, .23, .24, .25, .26, .27, .28, .29, .3,\n",
    "                      .31, .32, .33, .34, .35, .36, .37, .38, .39, .4,\n",
    "                      .41, .42, .43, .44, .45, .46, .47, .48, .49, .5,\n",
    "                      .51, .52, .53, .54, .55, .56, .57, .58, .59, .6,\n",
    "                      .61, .62, .63, .64, .65, .66, .67, .68, .69, .7,\n",
    "                      .71, .72, .73, .74, .75, .76, .77, .78, .79, .8,\n",
    "                      .81, .82, .83, .84, .85, .86, .87, .88, .89, .9,\n",
    "                      .91, .92, .93, .94, .95, .96, .97, .98, .99,  1]\n",
    "\n",
    "\n",
    "\n",
    "# MODULE CONSTANTS\n",
    "PRODUCT = \"M3202A\"\n",
    "CHASSIS = 1\n",
    "SLOT = 3\n",
    "CHANNEL = 4\n",
    "AMPLITUDE = .1 \n",
    "\n",
    "# CREATE AND OPEN MODULE\n",
    "AWG = keysightSD1.SD_AOU()\n",
    "moduleID = AWG.openWithSlot(PRODUCT, CHASSIS, SLOT)\n",
    "if moduleID < 0:\n",
    "    print(\"Module open error: \", moduleID)\n",
    "else:\n",
    "    print(\"Module opened: \", moduleID)\n",
    "    print(\"Module name: \", AWG.getProductName())\n",
    "    print(\"Slot: \", AWG.getSlot())\n",
    "    print(\"Chassis: \", AWG.getChassis())\n",
    "    print()\n",
    "    AWG.channelWaveShape(CHANNEL, keysightSD1.SD_Waveshapes.AOU_AWG)\n",
    "    AWG.channelAmplitude(CHANNEL, AMPLITUDE)\n",
    "    # WAVEFORM FROM FILE\n",
    "    WAVE_NUMBER = 0\n",
    "    # create, open from file, load to module RAM and queue for execution\n",
    "    wave = keysightSD1.SD_Wave()\n",
    "    # set path to your file here\n",
    "    wave.newFromFile(\"C:/Users/Public/Documents/keysightSD1/Examples/Waveforms/Gaussian.csv\")\n",
    "    AWG.waveformLoad(wave, WAVE_NUMBER)\n",
    "    AWG.AWGqueueWaveform(CHANNEL, WAVE_NUMBER, 0, 0, 0, 0)\n",
    "    error = AWG.AWGstart(CHANNEL)\n",
    "    if error < 0:\n",
    "        print(\"AWG from file error: \", error)\n",
    "    else: \n",
    "        print(\"AWG from file started successfully\")\n",
    "    input(\"Press any key to stop AWG\")\n",
    "    AWG.AWGflush(CHANNEL)\n",
    "    AWG.AWGstop(CHANNEL)\n",
    "    input(\"Press any key to start AWG from array\")\n",
    "    # WAVEFROM FROM ARRAY/LIST\n",
    "    # This function is equivalent to create a waveform with new,\n",
    "    # and then to call waveformLoad, AWGqueueWaveform and AWGstart\n",
    "    error = AWG.AWGfromArray(CHANNEL, 0, 0, 0, 0, 0, waveform_data_list)\n",
    "    if error < 0:\n",
    "        print(\"AWG from array error: \", error)\n",
    "    else:\n",
    "        print(\"AWG from array started successfully\")\n",
    "    # exiting...\n",
    "    input(\"Press any key to stop AWG\")\n",
    "    AWG.AWGflush(CHANNEL)\n",
    "    AWG.AWGstop(CHANNEL)\n",
    "    AWG.close()\n",
    "    print()\n",
    "    print(\"AOU closed\")\n",
    "    \n",
    "    "
   ]
  },
  {
   "cell_type": "code",
   "execution_count": 12,
   "id": "f2b5596c",
   "metadata": {},
   "outputs": [
    {
     "name": "stdout",
     "output_type": "stream",
     "text": [
      "Module open error: -8080\n"
     ]
    }
   ],
   "source": [
    "# Digitizer Control\n",
    "# MODULE CONSTANTS\n",
    "PRODUCT = \"M3102A\"\n",
    "CHASSIS = 1\n",
    "SLOT = 7\n",
    "CHANNEL = 4\n",
    "# CREATE AND OPEN MODULE\n",
    "DIG = keysightSD1.SD_AIN()\n",
    "moduleID = DIG.openWithSlot(PRODUCT, CHASSIS, SLOT)\n",
    "if moduleID < 0:\n",
    "    print(\"Module open error:\", moduleID)\n",
    "else:\n",
    "    print(\"Module opened:\", moduleID)\n",
    "    print(\"Module name:\", DIG.getProductName())\n",
    "    print(\"slot:\", DIG.getSlot())\n",
    "    print(\"Chassis:\", DIG.getChassis())\n",
    "    print()\n",
    "    # CONFIGURE AND START DAQ\n",
    "    POINTS_PER_CYCLE = 100\n",
    "    CYCLES = 500\n",
    "    TRIGGER_DELAY = 0\n",
    "    DIG.DAQconfig(CHANNEL, POINTS_PER_CYCLE, CYCLES, TRIGGER_DELAY,\n",
    "    keysightSD1.SD_TriggerModes.SWHVITRIG)\n",
    "    DIG.DAQstart(CHANNEL)\n",
    "    input(\"Press any key to provide trigger\")\n",
    "    DIG.DAQtrigger(CHANNEL)\n",
    "    # READ DATA\n",
    "    TIMEOUT = 1\n",
    "    dataRead = DIG.DAQread(CHANNEL, POINTS_PER_CYCLE * CYCLES, TIMEOUT)\n",
    "    print(dataRead)\n",
    "    # exiting...\n",
    "    DIG.close()\n",
    "    print()\n",
    "    print(\"AIN closed\")"
   ]
  },
  {
   "cell_type": "code",
   "execution_count": 7,
   "id": "6c24d7b4",
   "metadata": {},
   "outputs": [
    {
     "data": {
      "text/plain": [
       "[<matplotlib.lines.Line2D at 0x24297dcd2b0>]"
      ]
     },
     "execution_count": 7,
     "metadata": {},
     "output_type": "execute_result"
    },
    {
     "data": {
      "image/png": "[encoded data removed]",
      "text/plain": [
       "<Figure size 432x288 with 1 Axes>"
      ]
     },
     "metadata": {
      "needs_background": "light"
     },
     "output_type": "display_data"
    }
   ],
   "source": [
    "import matplotlib.pyplot as plt\n",
    "plt.plot(dataRead)"
   ]
  },
  {
   "cell_type": "code",
   "execution_count": null,
   "id": "9272d9b2",
   "metadata": {},
   "outputs": [],
   "source": []
  }
 ],
 "metadata": {
  "kernelspec": {
   "display_name": "Python 3",
   "language": "python",
   "name": "python3"
  },
  "language_info": {
   "codemirror_mode": {
    "name": "ipython",
    "version": 3
   },
   "file_extension": ".py",
   "mimetype": "text/x-python",
   "name": "python",
   "nbconvert_exporter": "python",
   "pygments_lexer": "ipython3",
   "version": "3.8.8"
  }
 },
 "nbformat": 4,
 "nbformat_minor": 5
}

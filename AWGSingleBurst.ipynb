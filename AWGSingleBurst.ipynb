{
 "cells": [
  {
   "cell_type": "code",
   "execution_count": 4,
   "id": "e78102d0",
   "metadata": {},
   "outputs": [
    {
     "name": "stdout",
     "output_type": "stream",
     "text": [
      "Module opened:  268435456\n",
      "Module name:  M3202A\n",
      "Slot:  3\n",
      "Chassis:  1\n",
      "\n",
      "Single Gaussian pulse sent successfully\n",
      "\n",
      "AOU closed\n"
     ]
    }
   ],
   "source": [
    "# AWG Control\n",
    "import sys\n",
    "sys.path.append('C:\\Program Files\\Keysight\\SD1\\Libraries\\Python')\n",
    "import keysightSD1\n",
    "\n",
    "\n",
    "# MODULE CONSTANTS\n",
    "PRODUCT = \"M3202A\"\n",
    "CHASSIS = 1\n",
    "SLOT = 3\n",
    "CHANNEL = 4\n",
    "AMPLITUDE = .1 \n",
    "\n",
    "# CREATE AND OPEN MODULE\n",
    "AWG = keysightSD1.SD_AOU()\n",
    "moduleID = AWG.openWithSlot(PRODUCT, CHASSIS, SLOT)\n",
    "if moduleID < 0:\n",
    "    print(\"Module open error: \", moduleID)\n",
    "else:\n",
    "    print(\"Module opened: \", moduleID)\n",
    "    print(\"Module name: \", AWG.getProductName())\n",
    "    print(\"Slot: \", AWG.getSlot())\n",
    "    print(\"Chassis: \", AWG.getChassis())\n",
    "    print()\n",
    "    AWG.channelWaveShape(CHANNEL, keysightSD1.SD_Waveshapes.AOU_AWG)\n",
    "    AWG.channelAmplitude(CHANNEL, AMPLITUDE)\n",
    "    # WAVEFORM FROM FILE\n",
    "    WAVE_NUMBER = 0\n",
    "    # create, open from file, load to module RAM and queue for execution\n",
    "    wave = keysightSD1.SD_Wave()\n",
    "    # set path to your file here\n",
    "    wave.newFromFile(\"C:/Users/Public/Documents/keysightSD1/Examples/Waveforms/Gaussian.csv\")\n",
    "    AWG.waveformLoad(wave, WAVE_NUMBER)\n",
    "    AWG.AWGqueueWaveform(CHANNEL, WAVE_NUMBER, 0, 0, 1, 0)\n",
    "    error = AWG.AWGstart(CHANNEL)\n",
    "    if error < 0:\n",
    "        print(\"AWG from file error: \", error)\n",
    "    else: \n",
    "        print(\"Single Gaussian pulse sent successfully\")\n",
    "    AWG.AWGflush(CHANNEL)\n",
    "    AWG.AWGstop(CHANNEL)\n",
    "    AWG.close()\n",
    "    print()\n",
    "    print(\"AOU closed\")\n",
    "    \n",
    "    "
   ]
  },
  {
   "cell_type": "code",
   "execution_count": null,
   "id": "98095cb8",
   "metadata": {},
   "outputs": [],
   "source": []
  },
  {
   "cell_type": "code",
   "execution_count": null,
   "id": "e62a4f27",
   "metadata": {},
   "outputs": [],
   "source": []
  }
 ],
 "metadata": {
  "kernelspec": {
   "display_name": "Python 3",
   "language": "python",
   "name": "python3"
  },
  "language_info": {
   "codemirror_mode": {
    "name": "ipython",
    "version": 3
   },
   "file_extension": ".py",
   "mimetype": "text/x-python",
   "name": "python",
   "nbconvert_exporter": "python",
   "pygments_lexer": "ipython3",
   "version": "3.8.8"
  }
 },
 "nbformat": 4,
 "nbformat_minor": 5
}
